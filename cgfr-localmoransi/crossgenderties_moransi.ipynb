{
 "cells": [
  {
   "cell_type": "code",
   "execution_count": 15,
   "metadata": {},
   "outputs": [],
   "source": [
    "### Import packages\n",
    "\n",
    "import pandas as pd\n",
    "import geopandas as gpd\n",
    "from pysal.explore import esda\n",
    "from pysal.lib import weights"
   ]
  },
  {
   "cell_type": "code",
   "execution_count": 16,
   "metadata": {},
   "outputs": [],
   "source": [
    "### Load data\n",
    "\n",
    "# Specify top-n friends for CGFR\n",
    "topnfriends = 25\n",
    "cgfr = \"cgfr_\" + str(topnfriends)\n",
    "\n",
    "# Load cross-gender ties dataset\n",
    "cgt_filepath = \"data sources/gadm2_cgfr.csv\"\n",
    "cgt_index = \"region_id\"\n",
    "country = \"DE\"\n",
    "cgt = pd.read_csv(cgt_filepath, index_col=cgt_index)\n",
    "cgt = cgt[(cgt[\"country\"] == country)] # Filter for country-specific data\n",
    "\n",
    "# Load level 2 administrative boundaries dataset\n",
    "admin2_filepath = \"data sources/gadm41_DEU.gpkg\"\n",
    "admin2_layer = \"ADM_ADM_2\"\n",
    "admin2_index = \"GID_2\"\n",
    "admin2 = gpd.read_file(admin2_filepath, layer=admin2_layer)\n",
    "admin2 = admin2.set_index(admin2_index)\n",
    "admin2 = admin2[(admin2[\"ENGTYPE_2\"] == \"District\")] # Filter out non-district data"
   ]
  },
  {
   "cell_type": "code",
   "execution_count": 17,
   "metadata": {},
   "outputs": [
    {
     "name": "stdout",
     "output_type": "stream",
     "text": [
      "Moran's I: 0.6297080121506486\n",
      "Moran's I p-value: 0.001\n",
      "Percent of polygons with statistically significant LISAs: 45.77114427860697\n"
     ]
    }
   ],
   "source": [
    "### Perform spatial analysis using Moran's I\n",
    "\n",
    "# Join geometry to attributes\n",
    "db = admin2.join(cgt)\n",
    "\n",
    "# Create spatial weights matrix\n",
    "w = weights.KNN.from_dataframe(db, k=8)\n",
    "w.transform = \"R\"\n",
    "\n",
    "# Compute spatial lag\n",
    "cgfr_lag = cgfr + \"_lag\"\n",
    "db[cgfr_lag] = weights.lag_spatial(\n",
    "    w, db[cgfr]\n",
    ")\n",
    "# Standardize CGFR by subtracting its mean\n",
    "cgfr_std = cgfr + \"_std\"\n",
    "cgfr_lag_std = cgfr_lag + \"_std\"\n",
    "db[cgfr_std] = db[cgfr] - db[cgfr].mean()\n",
    "db[cgfr_lag_std] = weights.lag_spatial(\n",
    "    w, db[cgfr_std]\n",
    ")\n",
    "\n",
    "# Calculate Moran's I\n",
    "moran = esda.moran.Moran(db[cgfr], w)\n",
    "print(f\"Moran's I: {moran.I}\")\n",
    "print(f\"Moran's I p-value: {moran.p_sim}\")\n",
    "\n",
    "# Calculate local Moran's I\n",
    "lisa = esda.moran.Moran_Local(db[cgfr], w)\n",
    "# Assign pseudo P-values and determine their significance at 5% CL\n",
    "print(f\"Percent of polygons with statistically significant LISAs: {(lisa.p_sim < 0.05).sum() * 100 / len(lisa.p_sim)}\")\n",
    "db[\"p-sim\"] = lisa.p_sim\n",
    "sig = 1 * (lisa.p_sim < 0.05)\n",
    "db[\"sig\"] = sig\n",
    "# Assign clustering values to features\n",
    "spots = lisa.q * sig\n",
    "spots_labels = {\n",
    "    0: \"Non-Significant\",\n",
    "    1: \"HH\",\n",
    "    2: \"LH\",\n",
    "    3: \"LL\",\n",
    "    4: \"HL\",\n",
    "}\n",
    "db[\"labels\"] = pd.Series(\n",
    "    spots,\n",
    "    index=db.index\n",
    ").map(spots_labels)"
   ]
  },
  {
   "cell_type": "code",
   "execution_count": 18,
   "metadata": {},
   "outputs": [],
   "source": [
    "### Export dataset\n",
    "\n",
    "# Filter dataset for specific fields\n",
    "db = db[[\n",
    "    \"NAME_1\", \"NAME_2\", cgfr, cgfr_lag, cgfr_std, cgfr_lag_std, \"p-sim\", \"labels\", \"geometry\"\n",
    "]]\n",
    "# Rename dataset fields for export use\n",
    "db_renamed = db.rename(columns={\n",
    "    \"NAME_1\": \"State\",\n",
    "    \"NAME_2\": \"District\",\n",
    "    cgfr: \"Cross-Gender Friending Ratio (CGFR)\",\n",
    "    cgfr_lag: \"CGFR spatial lag\",\n",
    "    cgfr_std: \"Standardized CGFR\",\n",
    "    cgfr_lag_std: \"Standardized CGFR spatial lag\",\n",
    "    \"p-sim\": \"Pseudo-p-value\",\n",
    "    \"labels\": \"Cluster type\"\n",
    "})\n",
    "# Export filtered dataset\n",
    "db_renamed.to_file(\"data outputs/cgfr_germany_localmoransi.geojson\", driver=\"GeoJSON\")"
   ]
  }
 ],
 "metadata": {
  "kernelspec": {
   "display_name": "Python 3",
   "language": "python",
   "name": "python3"
  },
  "language_info": {
   "codemirror_mode": {
    "name": "ipython",
    "version": 3
   },
   "file_extension": ".py",
   "mimetype": "text/x-python",
   "name": "python",
   "nbconvert_exporter": "python",
   "pygments_lexer": "ipython3",
   "version": "3.13.2"
  }
 },
 "nbformat": 4,
 "nbformat_minor": 2
}
